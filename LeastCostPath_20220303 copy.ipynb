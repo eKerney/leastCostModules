{
 "cells": [
  {
   "cell_type": "code",
   "execution_count": 21,
   "metadata": {},
   "outputs": [],
   "source": [
    "import arcpy, arcpy.mp\n",
    "#from sys import argv\n",
    "import time\n",
    "import os\n",
    "# import string, random"
   ]
  },
  {
   "cell_type": "code",
   "execution_count": 4,
   "metadata": {},
   "outputs": [],
   "source": [
    "# Return list of workspaces in specified arcpy.env.workspace path\n",
    "def listWorkSpaces(workPath):\n",
    "    try:\n",
    "        arcpy.env.workspace = workPath\n",
    "        wsList = []\n",
    "        ws = arcpy.ListWorkspaces(\"*\", \"FileGDB\")\n",
    "        for i,w in enumerate(ws):\n",
    "            wsList.append(w)\n",
    "            print(f'{i} - {w}')\n",
    "        return wsList\n",
    "    except:\n",
    "        display(f'ERROR listing WorkSpaces in {workPath}')\n",
    "        \n",
    "# function to list all Feature Classes in specified FileGeoDatabase\n",
    "def listItems(GDBpath):\n",
    "    try:\n",
    "        arcpy.env.workspace = GDBpath\n",
    "        fcList = []\n",
    "        fc = arcpy.ListFeatureClasses()\n",
    "        print(f'Feature Classes/Shapefile in {GDBpath}: ')\n",
    "        for i,f in enumerate(fc):\n",
    "            fcList.append(f)\n",
    "            print(f'{i} - {f}')\n",
    "        return fcList\n",
    "    except:\n",
    "        display(f'ERROR listing Feature Classes in {GDBpath}')\n",
    "\n",
    "# Delete feature class given path to GDB and fc name\n",
    "def deleteFeatureClass(GDBpath,fcName):\n",
    "    try:\n",
    "        quest = (input(f'DELETE FEATURE CLASS - {GDBpath}\\\\{fcName} ??? - ') or 'NO').upper()\n",
    "        if quest == 'YES':\n",
    "            result = arcpy.Delete_management(f'{GDBpath}\\\\{fcName}')\n",
    "            display(f'File: {fcName} delete = {result}')\n",
    "        else:\n",
    "            display(f'Did not delete: {fcName}')\n",
    "    except:\n",
    "        display(f'ERROR DELETING {fcName}')\n",
    "\n",
    "\n",
    "# Make Selecttion and Create New Feature Class into function\n",
    "def newFCfromSelect(GDBpath, selectFrom, selector, selType):\n",
    "    try:\n",
    "        switchSel = (input(f'Switch the resulting selection(y/N)? ')).upper()\n",
    "        # set workspace GDB, overwrite = True\n",
    "        arcpy.env.workspace,arcpy.env.overwriteOutput = GDBpath, True\n",
    "        arcpy.Compact_management(GDBpath)\n",
    "        # create random string to append to file name, prevents duplication errors\n",
    "        rand = ''.join(random.choices(string.ascii_uppercase + string.digits, k = 8))\n",
    "        # tempLayer name from selectFrom name and random 8 character string\n",
    "        # clear any previous selection and create temporary layer\n",
    "        arcpy.SelectLayerByAttribute_management(selectFrom, \"CLEAR_SELECTION\")\n",
    "        arcpy.MakeFeatureLayer_management(selectFrom, 'tempLayer') \n",
    "        # clear selection on selector and perfrom on temporary layer\n",
    "        arcpy.SelectLayerByAttribute_management('tempLayer', \"CLEAR_SELECTION\")\n",
    "        arcpy.SelectLayerByLocation_management('tempLayer', selType, selector)\n",
    "        if switchSel == 'Y':\n",
    "            arcpy.SelectLayerByAttribute_management('tempLayer', \"SWITCH_SELECTION\")\n",
    "        # Check to see if any features were selected\n",
    "        matchcount = int(arcpy.GetCount_management('tempLayer')[0]) \n",
    "        if matchcount == 0:\n",
    "            print('no features matched spatial and attribute criteria')\n",
    "        else:\n",
    "            arcpy.CopyFeatures_management('tempLayer', (f'{selectFrom}_{rand}_{selType}'))\n",
    "            display(f'{matchcount} Features selected and written to: {selectFrom}_{rand}_{selType}')\n",
    "    except:\n",
    "        display(f'ERROR Creating Selection: {selectFrom} {selType} {selector}')\n",
    "        \n",
    "def setCRS(envPath):\n",
    "    try:\n",
    "        test, count = 1, 0\n",
    "        while test != 0:    \n",
    "            dirList,layList = [], []\n",
    "            arcpy.env.workspace = envPath\n",
    "            arcpy.env.overwriteOutput = True\n",
    "            print(f'ArcPy Workspace: {arcpy.env.workspace}')\n",
    "            os.chdir(arcpy.env.workspace)\n",
    "            print(f'Subdirectories')\n",
    "            for i, item in enumerate(os.scandir(envPath)):\n",
    "                if item.is_dir():\n",
    "                    dirList.append(item.path)\n",
    "                    print(f'{i} - {item.path}')\n",
    "            ind = int(input(f'Change to Sub-Directory?<ENTER for none> ') or 999)\n",
    "            if ind != 999:\n",
    "                arcpy.env.workspace = dirList[ind]\n",
    "                print(f'ArcPy Workspace: {arcpy.env.workspace}')\n",
    "            for i, item in enumerate(arcpy.ListFeatureClasses()):\n",
    "                layList.append(item)\n",
    "                print(f'{i} - {item}')\n",
    "            ind = int(input(f'TARGET LAYER TO DEFINE PROJECTION: ') or 999)\n",
    "            if ind != 999:\n",
    "                CRS = arcpy.SpatialReference(4326)\n",
    "                arcpy.DefineProjection_management(layList[ind],CRS)\n",
    "                print(f'Successfully Defined Projection for {layList[ind]}')\n",
    "                count += 1\n",
    "            test = int(input(f'PRESS 1 TO CONTINUE? ') or 0)\n",
    "        print(f'Set CRS for {count} layers')\n",
    "    except:\n",
    "        print(f'ERROR Defining Projection')"
   ]
  },
  {
   "cell_type": "code",
   "execution_count": 66,
   "metadata": {},
   "outputs": [],
   "source": [
    "class CostPathFromSurface:\n",
    "    def __init__(self, workSpaceGDB: str, surfaceFile: str, originLoc: str, destLoc: str, siteName: str,\n",
    "                 inPrj: str, outPrj: str, surfaceAttr: str, rastCellSize: str, ):\n",
    "        self.workSpaceGDB,self.surfaceFile,self.originLoc,self.destLoc,self.siteName = workSpaceGDB,surfaceFile,originLoc,destLoc,siteName\n",
    "        self.inPrj,self.outPrj,self.surfaceAttr,self.rastCellSize = inPrj, outPrj, surfaceAttr, rastCellSize\n",
    "        self.timeSuffix, self.resamplingType, self.prjRastCellSize = time.strftime('%d%m%Y%H%M%S'), 'NEAREST', '45.6326806908288 45.6326806908286'\n",
    "        # setup arcpy environment\n",
    "        arcpy.env.workspace, arcpy.env.overwriteOutput = self.workSpaceGDB, True\n",
    "        self.scratch = arcpy.env.scratchGDB\n",
    "        # Full function workflow for route generation\n",
    "        self.surfaceVecToRast()\n",
    "        self.projectRaster()\n",
    "        self.projectLocations()\n",
    "        self.leastCostPath()\n",
    "\n",
    "    # Convert surface vector into raster format - self.rasterSurface\n",
    "    def surfaceVecToRast(self):\n",
    "        self.rasterSurface = (f'{self.siteName}_rasterSurface_{timeSuffix}')\n",
    "        arcpy.conversion.PolygonToRaster(self.surfaceFile, self.surfaceAttr, self.rasterSurface, cell_assignment=\"CELL_CENTER\", \n",
    "                                         priority_field=\"NONE\", cellsize=self.rastCellSize, build_rat=\"BUILD\")\n",
    "\n",
    "    # Project surface raster\n",
    "    def projectRaster(self):\n",
    "        self.rastSurfProjName = (f'{self.siteName}_rasterSurfaceProject_{self.timeSuffix}')\n",
    "        self.rasterSurfaceProject = arcpy.management.ProjectRaster(self.rasterSurface, self.rastSurfProjName, out_coor_system=self.outPrj, \n",
    "            resampling_type=self.resamplingType, cell_size=self.prjRastCellSize, geographic_transform=[], Registration_Point=\"\", \n",
    "            in_coor_system=\"\", vertical=\"NO_VERTICAL\") \n",
    "            \n",
    "    # Project origin and destination vector points\n",
    "    def projectLocations(self):\n",
    "        self.originProj = arcpy.management.Project(self.originLoc, (f'{self.originLoc}_orjProj'), out_coor_system=self.outPrj, transform_method=[], \n",
    "            in_coor_system=self.inPrj, preserve_shape=\"NO_PRESERVE_SHAPE\", max_deviation=\"\", vertical=\"NO_VERTICAL\")\n",
    "        self.destProj = arcpy.management.Project(self.destLoc, (f'{self.destLoc}_orjProj'), out_coor_system=self.outPrj, transform_method=[], \n",
    "            in_coor_system=self.inPrj, preserve_shape=\"NO_PRESERVE_SHAPE\", max_deviation=\"\", vertical=\"NO_VERTICAL\")\n",
    "    \n",
    "    # And finally generate leastCostPath!\n",
    "    def leastCostPath(self):\n",
    "        with arcpy.EnvManager(scratchWorkspace=self.scratch, workspace=self.scratch):\n",
    "            arcpy.intelligence.LeastCostPath(self.rasterSurfaceProject, self.originProj, self.destProj, \n",
    "            (f'{self.workSpaceGDB}\\\\{self.siteName}_leastCostPath'), \"SMALL_POSITIVE\")\n"
   ]
  },
  {
   "cell_type": "code",
   "execution_count": 67,
   "metadata": {},
   "outputs": [],
   "source": [
    "workSpaceGDB = 'C:\\\\Users\\\\Eric Kerney\\\\arcgisNotebooks\\\\leastCost\\\\Surface_v2.gdb\\\\Surface.gdb'\n",
    "surfaceFile, originLoc, destLoc, siteName = 'PendletonOR_SuitabilitySurface', 'TribalCenter', 'Pendleton_Lab', 'pendleOR'\n",
    "inPrj = 'GEOGCS[\\\"GCS_WGS_1984\\\",DATUM[\\\"D_WGS_1984\\\",SPHEROID[\\\"WGS_1984\\\",6378137.0,298.257223563]],PRIMEM[\\\"Greenwich\\\",0.0],UNIT[\\\"Degree\\\",0.0174532925199433]]'\n",
    "outPrj = 'PROJCS[\\\"US_National_Atlas_Equal_Area\\\",GEOGCS[\\\"GCS_Sphere_Clarke_1866_Authalic\\\",DATUM[\\\"D_Sphere_Clarke_1866_Authalic\\\",SPHEROID[\\\"Sphere_Clarke_1866_Authalic\\\",6370997.0,0.0]],PRIMEM[\\\"Greenwich\\\",0.0],UNIT[\\\"Degree\\\",0.0174532925199433]],PROJECTION[\\\"Lambert_Azimuthal_Equal_Area\\\"],PARAMETER[\\\"False_Easting\\\",0.0],PARAMETER[\\\"False_Northing\\\",0.0],PARAMETER[\\\"Central_Meridian\\\",-100.0],PARAMETER[\\\"Latitude_Of_Origin\\\",45.0],UNIT[\\\"Meter\\\",1.0]]'\n",
    "surfaceAttr, rastCellSize = 'score_v2', '0.0004'\n",
    "costSur = CostPathFromSurface(workSpaceGDB, surfaceFile, originLoc, destLoc, siteName, inPrj, outPrj, surfaceAttr, rastCellSize)\n"
   ]
  },
  {
   "cell_type": "code",
   "execution_count": 62,
   "metadata": {},
   "outputs": [],
   "source": [
    "costSur.surfaceVecToRast()"
   ]
  },
  {
   "cell_type": "code",
   "execution_count": 63,
   "metadata": {},
   "outputs": [],
   "source": [
    "costSur.projectRaster()"
   ]
  },
  {
   "cell_type": "code",
   "execution_count": 64,
   "metadata": {},
   "outputs": [],
   "source": [
    "costSur.projectLocations()"
   ]
  },
  {
   "cell_type": "code",
   "execution_count": 65,
   "metadata": {},
   "outputs": [],
   "source": [
    "costSur.leastCostPath()"
   ]
  },
  {
   "cell_type": "code",
   "execution_count": 54,
   "metadata": {},
   "outputs": [
    {
     "name": "stdout",
     "output_type": "stream",
     "text": [
      "0 - C:\\Users\\Eric Kerney\\arcgisNotebooks\\leastCost\\Surface_v2.gdb\\Surface.gdb\n"
     ]
    }
   ],
   "source": [
    "workPath = listWorkSpaces('C:\\\\Users\\\\Eric Kerney\\\\arcgisNotebooks\\\\leastCost\\\\Surface_v2.gdb')\n",
    "wrkSpace = workPath[0]"
   ]
  },
  {
   "cell_type": "code",
   "execution_count": 49,
   "metadata": {},
   "outputs": [
    {
     "name": "stdout",
     "output_type": "stream",
     "text": [
      "11032022141448\n"
     ]
    }
   ],
   "source": [
    "#Set workspace and variables \n",
    "arcpy.env.workspace=(workPath[0])\n",
    "arcpy.env.overwriteOutput = True \n",
    "scratch = arcpy.env.scratchGDB\n",
    "\n",
    "outCostPathName = 'leastCostPath'\n",
    "siteName = \"pendle_\" #used for file naming \n",
    "timeSuffix = time.strftime(\"%d%m%Y%H%M%S\") #used for file naming\n",
    "#simpTol = \"300 Meters\"\n",
    "prj = 'PROJCS[\\\"US_National_Atlas_Equal_Area\\\",GEOGCS[\\\"GCS_Sphere_Clarke_1866_Authalic\\\",DATUM[\\\"D_Sphere_Clarke_1866_Authalic\\\",SPHEROID[\\\"Sphere_Clarke_1866_Authalic\\\",6370997.0,0.0]],PRIMEM[\\\"Greenwich\\\",0.0],UNIT[\\\"Degree\\\",0.0174532925199433]],PROJECTION[\\\"Lambert_Azimuthal_Equal_Area\\\"],PARAMETER[\\\"False_Easting\\\",0.0],PARAMETER[\\\"False_Northing\\\",0.0],PARAMETER[\\\"Central_Meridian\\\",-100.0],PARAMETER[\\\"Latitude_Of_Origin\\\",45.0],UNIT[\\\"Meter\\\",1.0]]'\n",
    "wgs84Prj = 'GEOGCS[\\\"GCS_WGS_1984\\\",DATUM[\\\"D_WGS_1984\\\",SPHEROID[\\\"WGS_1984\\\",6378137.0,298.257223563]],PRIMEM[\\\"Greenwich\\\",0.0],UNIT[\\\"Degree\\\",0.0174532925199433]]'\n",
    "prjRastCellSize = '45.6326806908288 45.6326806908286'\n",
    "resamplingType =\"NEAREST\"\n",
    "\n",
    "originLoc = \"TribalCenter\"\n",
    "destLoc = \"Pendleton_Lab\"\n",
    "\n",
    "rastCellSize=\"0.0004\"\n",
    "\n",
    "print(timeSuffix)"
   ]
  },
  {
   "cell_type": "code",
   "execution_count": 50,
   "metadata": {},
   "outputs": [
    {
     "data": {
      "text/html": [
       "<div class='gpresult'><h2>Messages</h2><div id='messages' data-messages='[\"Start Time: Friday, March 11, 2022 2:14:50 PM\",\"Succeeded at Friday, March 11, 2022 2:14:51 PM (Elapsed Time: 1.46 seconds)\"]' data-show='true'><div id = 'default' /></div></div>"
      ],
      "text/plain": [
       "<Result 'C:\\\\Users\\\\Eric Kerney\\\\arcgisNotebooks\\\\leastCost\\\\Surface_v2.gdb\\\\Surface.gdb\\\\pendle__rasterSurface_11032022141448'>"
      ]
     },
     "execution_count": 50,
     "metadata": {},
     "output_type": "execute_result"
    }
   ],
   "source": [
    "#Convert polygon surface to Raster Surface\n",
    "inputSurface = 'PendletonOR_SuitabilitySurface'\n",
    "rasterSurface = (f'{siteName}_rasterSurface_{timeSuffix}')\n",
    "arcpy.conversion.PolygonToRaster(inputSurface, \"score_v2\", rasterSurface, cell_assignment=\"CELL_CENTER\", priority_field=\"NONE\", \n",
    "                                 cellsize=rastCellSize, build_rat=\"BUILD\")"
   ]
  },
  {
   "cell_type": "code",
   "execution_count": 12,
   "metadata": {},
   "outputs": [],
   "source": [
    "# LeastCostPath = \"LeastCostPath\"\n",
    "originProj = arcpy.management.Project(originLoc, (f'{originLoc}_orjProj'), out_coor_system=prj, transform_method=[], in_coor_system=wgs84Prj, \n",
    "    preserve_shape=\"NO_PRESERVE_SHAPE\", max_deviation=\"\", vertical=\"NO_VERTICAL\")\n",
    "destProj = arcpy.management.Project(destLoc, (f'{destLoc}_destProj'), out_coor_system=prj, transform_method=[], in_coor_system=wgs84Prj, \n",
    "    preserve_shape=\"NO_PRESERVE_SHAPE\", max_deviation=\"\", vertical=\"NO_VERTICAL\")"
   ]
  },
  {
   "cell_type": "code",
   "execution_count": 14,
   "metadata": {},
   "outputs": [],
   "source": [
    "#Projet Raster \n",
    "rastSurfProjName = (f'{siteName}_rasterSurfaceProject_{timeSuffix}')\n",
    "rasterSurfaceProject = arcpy.management.ProjectRaster(rasterSurface, rastSurfProjName, out_coor_system=prj, resampling_type=resamplingType, \n",
    "    cell_size=prjRastCellSize, geographic_transform=[], Registration_Point=\"\", in_coor_system=\"\", vertical=\"NO_VERTICAL\")"
   ]
  },
  {
   "cell_type": "code",
   "execution_count": 15,
   "metadata": {},
   "outputs": [],
   "source": [
    "# originProj - Output path to projected origin location\n",
    "# destProj - Output path to projected destination location\n",
    "# rasterSurfaceProject - Output from projected surface raster\n",
    "# scratch - scrath GDB workspace defined above = arcpy.env.scratchGDB \n",
    "\n",
    "with arcpy.EnvManager(scratchWorkspace=scratch, workspace=scratch):\n",
    "    arcpy.intelligence.LeastCostPath(rasterSurfaceProject, originProj, destProj, (f'{wrkSpace}\\\\{siteName}{outCostPathName}'), \"SMALL_POSITIVE\")"
   ]
  },
  {
   "cell_type": "code",
   "execution_count": 6,
   "metadata": {},
   "outputs": [
    {
     "data": {
      "text/plain": [
       "'C:\\\\Users\\\\ERICKE~1\\\\AppData\\\\Local\\\\Temp\\\\scratch.gdb'"
      ]
     },
     "execution_count": 6,
     "metadata": {},
     "output_type": "execute_result"
    }
   ],
   "source": [
    "arcpy.env.scratchGDB"
   ]
  },
  {
   "cell_type": "code",
   "execution_count": 150,
   "metadata": {},
   "outputs": [],
   "source": [
    "### YES!\n",
    "with arcpy.EnvManager(scratchWorkspace=r\"C:\\Users\\Eric Kerney\\Documents\\ArcGIS\\Projects\\MyProject\\MyProject.gdb\", \n",
    "workspace=r\"C:\\Users\\Eric Kerney\\Documents\\ArcGIS\\Projects\\MyProject\\MyProject.gdb\"):\n",
    "    arcpy.intelligence.LeastCostPath(\n",
    "    r\"C:\\Users\\Eric Kerney\\arcgisNotebooks\\leastCost\\Surface_v2.gdb\\Surface.gdb\\Pendleton_OR__rasterSurfaceProject_11032022115239\", \n",
    "    r\"C:\\Users\\Eric Kerney\\arcgisNotebooks\\leastCost\\Surface_v2.gdb\\Surface.gdb\\TribalCenter_Origin_Project_\", \n",
    "    r\"C:\\Users\\Eric Kerney\\arcgisNotebooks\\leastCost\\Surface_v2.gdb\\Surface.gdb\\Pendleton_Lab_Dest_Project_\", \n",
    "    r\"C:\\Users\\Eric Kerney\\arcgisNotebooks\\leastCost\\Surface_v2.gdb\\Surface.gdb\\leastCostTest1\", \"SMALL_POSITIVE\")"
   ]
  },
  {
   "cell_type": "markdown",
   "metadata": {},
   "source": [
    "## NEXT SECTION"
   ]
  },
  {
   "cell_type": "code",
   "execution_count": 7,
   "metadata": {},
   "outputs": [],
   "source": [
    "#Create Barrier\n",
    "Barrier, Count = arcpy.management.SelectLayerByAttribute(in_layer_or_view=PendletonOR_Suitability_Experiment_3m_Buffer, selection_type=\"NEW_SELECTION\", where_clause=\"score_v2 > 4\", invert_where_clause=\"\")"
   ]
  },
  {
   "cell_type": "code",
   "execution_count": 8,
   "metadata": {},
   "outputs": [],
   "source": [
    "#Simplify Line\n",
    "Simplify_Line = String+\"SimplifyLine_\"+Value\n",
    "Simplify_Line_Output = arcpy.cartography.SimplifyLine(in_features=Path_output, out_feature_class=Simplify_Line, algorithm=\"WEIGHTED_AREA\", tolerance=Simplification_Tolerance, error_resolving_option=\"RESOLVE_ERRORS\", collapsed_point_option=\"NO_KEEP\", error_checking_option=\"CHECK\", in_barriers=[Barrier])[0]"
   ]
  },
  {
   "cell_type": "code",
   "execution_count": 9,
   "metadata": {},
   "outputs": [],
   "source": [
    "#Generalize Line Further \n",
    "Generalize_Line_Output = arcpy.edit.Generalize(in_features=Simplify_Line_Output, tolerance=\"100 Meters\")[0]"
   ]
  },
  {
   "cell_type": "code",
   "execution_count": 14,
   "metadata": {},
   "outputs": [],
   "source": [
    "out_json = String+\"_toGeoJSON_\"+Value\n",
    "GeoJson_Output = arcpy.FeaturesToJSON_conversion(in_features =Generalize_Line_Output, out_json_file = out_json, format_json=\"FORMATTED\", geoJSON=\"GEOJSON\")"
   ]
  },
  {
   "cell_type": "code",
   "execution_count": null,
   "metadata": {},
   "outputs": [],
   "source": []
  },
  {
   "cell_type": "code",
   "execution_count": null,
   "metadata": {},
   "outputs": [],
   "source": []
  }
 ],
 "metadata": {
  "kernelspec": {
   "display_name": "Python 3",
   "language": "python",
   "name": "python3"
  },
  "language_info": {
   "codemirror_mode": {
    "name": "ipython",
    "version": 3
   },
   "file_extension": ".py",
   "mimetype": "text/x-python",
   "name": "python",
   "nbconvert_exporter": "python",
   "pygments_lexer": "ipython3",
   "version": "3.7.11"
  }
 },
 "nbformat": 4,
 "nbformat_minor": 4
}
