{
 "cells": [
  {
   "cell_type": "markdown",
   "metadata": {},
   "source": [
    "## CostPathFromSurface Class"
   ]
  },
  {
   "cell_type": "markdown",
   "metadata": {},
   "source": [
    "### CostPathFromSurface Workflow"
   ]
  },
  {
   "cell_type": "code",
   "execution_count": 1,
   "metadata": {},
   "outputs": [],
   "source": [
    "# import CostPathFromSurface module\n",
    "from CostPathFromSurface import *"
   ]
  },
  {
   "cell_type": "code",
   "execution_count": 2,
   "metadata": {},
   "outputs": [
    {
     "name": "stdout",
     "output_type": "stream",
     "text": [
      "Surface Vector to Raster Success: pendleOR_rasterSurface_13042022123017\n",
      "Project Raster Success: pendleOR_rasterSurfaceProject_13042022123017\n",
      "Project origin/destination Success: TribalCenter_orjProj - Pendleton_Lab_orjProj\n",
      "LeastCostPath Generated! - C:\\Users\\Eric Kerney\\arcgisNotebooks\\leastCost\\Surface_v2.gdb\\Surface.gdb\\pendleOR_leastCostPath\n",
      "Simplified GeoJSON Path Finished: pendleOR_GeoJSON_13042022123017.geojson\n"
     ]
    }
   ],
   "source": [
    " # Input Parameters\n",
    "workSpaceGDB = 'C:\\\\Users\\\\Eric Kerney\\\\arcgisNotebooks\\\\leastCost\\\\Surface_v2.gdb\\\\Surface.gdb'\n",
    "surfaceFile, originLoc, destLoc, siteName = 'PendletonOR_SuitabilitySurface', 'TribalCenter', 'Pendleton_Lab', 'pendleOR'\n",
    "inPrj = 'GEOGCS[\\\"GCS_WGS_1984\\\",DATUM[\\\"D_WGS_1984\\\",SPHEROID[\\\"WGS_1984\\\",6378137.0,298.257223563]],PRIMEM[\\\"Greenwich\\\",0.0],UNIT[\\\"Degree\\\",0.0174532925199433]]'\n",
    "outPrj = 'PROJCS[\\\"US_National_Atlas_Equal_Area\\\",GEOGCS[\\\"GCS_Sphere_Clarke_1866_Authalic\\\",DATUM[\\\"D_Sphere_Clarke_1866_Authalic\\\",SPHEROID[\\\"Sphere_Clarke_1866_Authalic\\\",6370997.0,0.0]],PRIMEM[\\\"Greenwich\\\",0.0],UNIT[\\\"Degree\\\",0.0174532925199433]],PROJECTION[\\\"Lambert_Azimuthal_Equal_Area\\\"],PARAMETER[\\\"False_Easting\\\",0.0],PARAMETER[\\\"False_Northing\\\",0.0],PARAMETER[\\\"Central_Meridian\\\",-100.0],PARAMETER[\\\"Latitude_Of_Origin\\\",45.0],UNIT[\\\"Meter\\\",1.0]]'\n",
    "surfaceAttr, rastCellSize, simplifyTol = 'score_v2', '0.0004','300 Meters'\n",
    "# Instantiate Class\n",
    "surfacePath = CostPathFromSurface(workSpaceGDB, surfaceFile, originLoc, destLoc, siteName, inPrj, outPrj, surfaceAttr, rastCellSize, simplifyTol)\n",
    "# Run Process\n",
    "surfacePath.runGeoTool()"
   ]
  },
  {
   "cell_type": "markdown",
   "metadata": {},
   "source": [
    "## RouteToKML Class Definition"
   ]
  },
  {
   "cell_type": "markdown",
   "metadata": {},
   "source": [
    "### RouteToKML Workflow"
   ]
  },
  {
   "cell_type": "code",
   "execution_count": 3,
   "metadata": {},
   "outputs": [],
   "source": [
    "from RouteToKML import *"
   ]
  },
  {
   "cell_type": "code",
   "execution_count": 4,
   "metadata": {},
   "outputs": [
    {
     "name": "stdout",
     "output_type": "stream",
     "text": [
      "Obtained token for Client ID: 2D2rcAgjy9cUBXMu226XJ1xzlFuueCAH\n",
      "Loaded GeoJSON: pendleOR_GeoJSON_07042022151621.geojson\n",
      "CARS Data Request Success Flight AGL: 400 ft\n",
      "Elevation Calculations Attributes Added\n",
      "PendletonRoutes0.kml - Saved Successfully\n"
     ]
    }
   ],
   "source": [
    "# Input parameters\n",
    "inputData = 'pendleOR_GeoJSON_07042022151621.geojson'\n",
    "z_units = 'ft'\n",
    "agl = 400\n",
    "outputName = 'PendletonRoutes'\n",
    "# Instantiate RouteToKML class\n",
    "routes = RouteToKML(inputData, z_units, agl, outputName)\n",
    "# Run Process\n",
    "routes.runGeoTool()"
   ]
  }
 ],
 "metadata": {
  "kernelspec": {
   "display_name": "Python 3",
   "language": "python",
   "name": "python3"
  },
  "language_info": {
   "codemirror_mode": {
    "name": "ipython",
    "version": 3
   },
   "file_extension": ".py",
   "mimetype": "text/x-python",
   "name": "python",
   "nbconvert_exporter": "python",
   "pygments_lexer": "ipython3",
   "version": "3.7.11"
  }
 },
 "nbformat": 4,
 "nbformat_minor": 4
}
