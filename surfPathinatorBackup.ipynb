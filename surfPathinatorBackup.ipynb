{
 "cells": [
  {
   "cell_type": "markdown",
   "metadata": {},
   "source": [
    "## CostPathFromSurface Class"
   ]
  },
  {
   "cell_type": "code",
   "execution_count": 10,
   "metadata": {},
   "outputs": [],
   "source": [
    "# Using virtual environment cloned from ArcGIS Pro\n",
    "import arcpy\n",
    "import time\n",
    "import os"
   ]
  },
  {
   "cell_type": "code",
   "execution_count": 12,
   "metadata": {},
   "outputs": [],
   "source": [
    "class CostPathFromSurface:\n",
    "    def __init__(self, workSpaceGDB: str, surfaceFile: str, originLoc: str, destLoc: str, siteName: str,\n",
    "                 inPrj: str, outPrj: str, surfaceAttr: str, rastCellSize: str, ):\n",
    "        self.workSpaceGDB,self.surfaceFile,self.originLoc,self.destLoc,self.siteName = workSpaceGDB,surfaceFile,originLoc,destLoc,siteName\n",
    "        self.inPrj,self.outPrj,self.surfaceAttr,self.rastCellSize = inPrj, outPrj, surfaceAttr, rastCellSize\n",
    "        self.timeSuffix, self.resamplingType, self.prjRastCellSize = time.strftime('%d%m%Y%H%M%S'), 'NEAREST', '45.6326806908288 45.6326806908286'\n",
    "        # setup arcpy environment\n",
    "        arcpy.env.workspace, arcpy.env.overwriteOutput = self.workSpaceGDB, True\n",
    "        self.scratch = arcpy.env.scratchGDB\n",
    "        # Full function workflow for route generation\n",
    "        self.surfaceVecToRast()\n",
    "        self.projectRaster()\n",
    "        self.projectLocations()\n",
    "        self.leastCostPath()\n",
    "\n",
    "    # Convert surface vector into raster format - self.rasterSurface\n",
    "    def surfaceVecToRast(self):\n",
    "        self.rasterSurface = (f'{self.siteName}_rasterSurface_{self.timeSuffix}')\n",
    "        arcpy.conversion.PolygonToRaster(self.surfaceFile, self.surfaceAttr, self.rasterSurface, cell_assignment=\"CELL_CENTER\", \n",
    "                                         priority_field=\"NONE\", cellsize=self.rastCellSize, build_rat=\"BUILD\")\n",
    "\n",
    "    # Project surface raster\n",
    "    def projectRaster(self):\n",
    "        self.rastSurfProjName = (f'{self.siteName}_rasterSurfaceProject_{self.timeSuffix}')\n",
    "        self.rasterSurfaceProject = arcpy.management.ProjectRaster(self.rasterSurface, self.rastSurfProjName, out_coor_system=self.outPrj, \n",
    "            resampling_type=self.resamplingType, cell_size=self.prjRastCellSize, geographic_transform=[], Registration_Point=\"\", \n",
    "            in_coor_system=\"\", vertical=\"NO_VERTICAL\") \n",
    "            \n",
    "    # Project origin and destination vector points\n",
    "    def projectLocations(self):\n",
    "        self.originProj = arcpy.management.Project(self.originLoc, (f'{self.originLoc}_orjProj'), out_coor_system=self.outPrj, transform_method=[], \n",
    "            in_coor_system=self.inPrj, preserve_shape=\"NO_PRESERVE_SHAPE\", max_deviation=\"\", vertical=\"NO_VERTICAL\")\n",
    "        self.destProj = arcpy.management.Project(self.destLoc, (f'{self.destLoc}_orjProj'), out_coor_system=self.outPrj, transform_method=[], \n",
    "            in_coor_system=self.inPrj, preserve_shape=\"NO_PRESERVE_SHAPE\", max_deviation=\"\", vertical=\"NO_VERTICAL\")\n",
    "    \n",
    "    # And finally generate leastCostPath!\n",
    "    def leastCostPath(self):\n",
    "        with arcpy.EnvManager(scratchWorkspace=self.scratch, workspace=self.scratch):\n",
    "            arcpy.intelligence.LeastCostPath(self.rasterSurfaceProject, self.originProj, self.destProj, \n",
    "            (f'{self.workSpaceGDB}\\\\{self.siteName}_leastCostPath'), \"SMALL_POSITIVE\")\n"
   ]
  },
  {
   "cell_type": "markdown",
   "metadata": {},
   "source": [
    "### CostPathFromSurface Workflow"
   ]
  },
  {
   "cell_type": "code",
   "execution_count": 13,
   "metadata": {},
   "outputs": [],
   "source": [
    "# define input parameters\n",
    "workSpaceGDB = 'C:\\\\Users\\\\Eric Kerney\\\\arcgisNotebooks\\\\leastCost\\\\Surface_v2.gdb\\\\Surface.gdb'\n",
    "surfaceFile, originLoc, destLoc, siteName = 'PendletonOR_SuitabilitySurface', 'TribalCenter', 'Pendleton_Lab', 'pendleOR'\n",
    "inPrj = 'GEOGCS[\\\"GCS_WGS_1984\\\",DATUM[\\\"D_WGS_1984\\\",SPHEROID[\\\"WGS_1984\\\",6378137.0,298.257223563]],PRIMEM[\\\"Greenwich\\\",0.0],UNIT[\\\"Degree\\\",0.0174532925199433]]'\n",
    "outPrj = 'PROJCS[\\\"US_National_Atlas_Equal_Area\\\",GEOGCS[\\\"GCS_Sphere_Clarke_1866_Authalic\\\",DATUM[\\\"D_Sphere_Clarke_1866_Authalic\\\",SPHEROID[\\\"Sphere_Clarke_1866_Authalic\\\",6370997.0,0.0]],PRIMEM[\\\"Greenwich\\\",0.0],UNIT[\\\"Degree\\\",0.0174532925199433]],PROJECTION[\\\"Lambert_Azimuthal_Equal_Area\\\"],PARAMETER[\\\"False_Easting\\\",0.0],PARAMETER[\\\"False_Northing\\\",0.0],PARAMETER[\\\"Central_Meridian\\\",-100.0],PARAMETER[\\\"Latitude_Of_Origin\\\",45.0],UNIT[\\\"Meter\\\",1.0]]'\n",
    "surfaceAttr, rastCellSize = 'score_v2', '0.0004'\n",
    "# Runs entire workflow \n",
    "costSur = CostPathFromSurface(workSpaceGDB, surfaceFile, originLoc, destLoc, siteName, inPrj, outPrj, surfaceAttr, rastCellSize)"
   ]
  },
  {
   "cell_type": "code",
   "execution_count": 9,
   "metadata": {},
   "outputs": [
    {
     "data": {
      "text/plain": [
       "'14032022113212'"
      ]
     },
     "execution_count": 9,
     "metadata": {},
     "output_type": "execute_result"
    }
   ],
   "source": [
    "time.strftime('%d%m%Y%H%M%S')"
   ]
  },
  {
   "cell_type": "markdown",
   "metadata": {},
   "source": [
    "## RouteToKML Class Definition"
   ]
  },
  {
   "cell_type": "code",
   "execution_count": 14,
   "metadata": {},
   "outputs": [
    {
     "name": "stdout",
     "output_type": "stream",
     "text": [
      "Collecting simplekml\n",
      "  Using cached simplekml-1.3.6-py3-none-any.whl\n",
      "Installing collected packages: simplekml\n",
      "Successfully installed simplekml-1.3.6\n"
     ]
    }
   ],
   "source": [
    "!pip install simplekml -I\n",
    "import requests\n",
    "import json\n",
    "import simplekml"
   ]
  },
  {
   "cell_type": "code",
   "execution_count": 15,
   "metadata": {},
   "outputs": [],
   "source": [
    "# Routing Class: takes input GeoJSON file, get elevation data from CARS, returns formatted KML for customer\n",
    "# Inputs: geoJSONpath: path to GeoJSON file\n",
    "# - z_units: feet, ft, meters, m\n",
    "# - agl: above ground level\n",
    "# - outName: output kml filename\n",
    "# - featureType: 'LINESTRING' - GeoJSON feature type, only works with LineString currently\n",
    "# - in_prj: EPSG prj as 'EPSG:4269'\n",
    "# - in_type: ellipsoid or orthometric \n",
    "class RouteToKML:\n",
    "    def __init__(self, geoJSONpath: str, z_units: str, agl: float, outName: str, featureType: str='LINESTRING',\n",
    "                 in_prj: str ='EPSG:4269', in_type: str='ellipsoid'):\n",
    "        self.inputPath, self.z_units, self.agl, self.featureType = geoJSONpath, z_units, agl, featureType\n",
    "        self.in_prj, self.in_type, self.outName = in_prj, in_type, outName\n",
    "        # loadGeoJSON function\n",
    "        self.loadGeoJSON()\n",
    "        self.addCARSdata()\n",
    "        self.addAglGeoJSON()\n",
    "        self.exportToKML()\n",
    "\n",
    "    # Load raw GeoJSON file as JSON     \n",
    "    def loadGeoJSON(self):\n",
    "        f = open(self.inputPath)\n",
    "        self.loadedGeoJSON = json.load(f)\n",
    "        return self.loadedGeoJSON\n",
    "\n",
    "    # send in memory GeoJSON to CARS\n",
    "    def addCARSdata(self):\n",
    "    #def carsRequest(geoJSONagl, in_type='ellipsoid', in_prj='EPSG:4269', z_units='m' ):\n",
    "        self.geoJSONarr = []\n",
    "        url = \"https://func-data-python-prod-cus.azurewebsites.net/api/carElevator?code=BAzIF4SpjMW6qa8GtFvcOf0tCVvAKA9yaZtIWOW9eQ7V6GMJkzrVqQ==\"\n",
    "        headers = { 'Content-Type': 'application/json'}\n",
    "        # Iterate through list of GeoJSON features\n",
    "        for i, feature in enumerate(self.loadedGeoJSON['features']):\n",
    "            payload = json.dumps({\n",
    "                \"in_type\": self.in_type,\n",
    "                \"in_prj\": self.in_prj,\n",
    "                \"z_units\": self.z_units,\n",
    "                \"geometry\": self.loadedGeoJSON['features'][i]['geometry']\n",
    "            })\n",
    "            response = requests.request(\"GET\", url, headers=headers, data=payload)\n",
    "            self.carsGeoJSON = json.loads(response.text)\n",
    "            # append GeoJSON with CARS attributes to geoJSONarr \n",
    "            self.geoJSONarr.append(self.carsGeoJSON)\n",
    "        return self.geoJSONarr\n",
    "\n",
    "    # Process CARS GeoJSON into final GeoJSON with altitude, agl, height_above_takeoff\n",
    "    def addAglGeoJSON(self):\n",
    "        self.finalGeoJSON = []\n",
    "        if type(self.geoJSONarr) is list:\n",
    "            for geoJSON in self.geoJSONarr:\n",
    "                #self.finalGeoJSON = self.geoJSONarr[0]\n",
    "                launchHeight = geoJSON['features'][0]['properties']['terrain_WGS84'] \n",
    "                for z, feature in enumerate(geoJSON['features']):\n",
    "                    altitude = feature['properties']['terrain_WGS84'] + self.agl\n",
    "                    geoJSON['features'][z]['properties']['altitude'] = altitude\n",
    "                    geoJSON['features'][z]['properties']['AGL'] = self.agl\n",
    "                    geoJSON['features'][z]['properties']['height_above_takeoff'] = round((self.agl + (feature['properties']['terrain_WGS84'] - launchHeight)), 2)\n",
    "                self.finalGeoJSON.append(geoJSON)\n",
    "        return self.finalGeoJSON\n",
    "    \n",
    "    # save array of GeoJSON feature collections as KML with formatted attribute table\n",
    "    def exportToKML(self):\n",
    "        if type(self.finalGeoJSON) is list:\n",
    "            for z, geoJSON in enumerate(self.finalGeoJSON):\n",
    "                self.kml = simplekml.Kml()\n",
    "                for i, feat in enumerate(geoJSON['features']):\n",
    "                    pnt = self.kml.newpoint(name=feat['id'],coords=[(feat['geometry']['coordinates'][0],feat['geometry']['coordinates'][1])])\n",
    "                    style1 = '<body style=\"margin:0px 0px 0px 0px;overflow:auto;background:#FFFFFF;height:100px\">'\n",
    "                    tableHead = '<table style=\"width:200px;border:1px solid black;font-family:Arial,Verdana,Times;font-size:14px;text-align:center;border-collapse:collapse;padding:3px 3px 3px 3px\">'\n",
    "                    table2 = '<table style=\"width:200px;border:1px solid black;font-family:Arial,Verdana,Times;font-size:12px;text-align:left;border-spacing:0px; padding:3px 3px 3px 3px\">'\n",
    "                    trHead = '<tr style=\"line-height:125%text-align:center;font-weight:bold;background:#9CBCE2;\">'\n",
    "                    trBack = '<tr style=\"line-height:110%\" bgcolor=\"#D4E4F3\">'\n",
    "                    table_, tr, tr_, td, td_ = '</table>','<tr style=\"line-height:110%\">','</tr>','<td>','</td>'\n",
    "                    id,units,lon,lat= (f'{feat[\"id\"]}'), (f'{feat[\"properties\"][\"units\"]}'),(f'{round(feat[\"geometry\"][\"coordinates\"][0],6)}'),(f'{round(feat[\"geometry\"][\"coordinates\"][1],6)}')\n",
    "                    alt, agl, hat = (f'{feat[\"properties\"][\"altitude\"]}'), (f'{feat[\"properties\"][\"AGL\"]}'), (f'{feat[\"properties\"][\"height_above_takeoff\"]}')\n",
    "                    line1 = (f\"{style1}{tableHead}{trHead}{td}ID: {id}  -  UNITS: {units}{td_}{tr_}\")\n",
    "                    line2 = (f\"{table2}{tr}{td}LON          {td_}{td}{td_}{td}{lon}{td_}{tr_}\")\n",
    "                    line3 = (f\"{trBack}{td}LAT          {td_}{td}{td_}{td}{lat}{td_}{tr_}\")\n",
    "                    line4 = (f\"{tr}{td}Flight Altitude {td_}{td}{td_}{td}{alt}{td_}{tr_}\")\n",
    "                    line5 = (f\"{trBack}{td}AGL          {td_}{td}{td_}{td}{agl}{td_}{tr_}\")\n",
    "                    line6 = (f\"{tr}{td}Height Above Takeoff {td_}{td}{td_}{td}{hat}{td_}{tr_}\")\n",
    "                    pnt.description = (f'{line1}{line2}{line3}{line4}{line5}{line6}')   \n",
    "                self.kml.save(f'{self.outName}{z}.kml')\n",
    "\n",
    "    # # unit in either m, meters, ft, feet\n",
    "    # def addZvalGeoJSON(inputGeoJSON, agl, units):\n",
    "    #     geoJSONcopy = inputGeoJSON\n",
    "    #     # check if unit conversion is needed\n",
    "    #     units = str(units)\n",
    "    #     agl = (agl*.3048) if units == 'ft' or units == 'feet' else agl\n",
    "    #     # Loop through each feature in GeoJSON and add agl value to geometry for each coordinate pair\n",
    "    #     for z, feature in enumerate(geoJSONcopy['features']):\n",
    "    #         for i, coords in enumerate(feature['geometry']['coordinates']):\n",
    "    #             newGeom = [coords[0],coords[1],agl]\n",
    "    #             geoJSONcopy['features'][z]['geometry']['coordinates'][i] = newGeom\n",
    "    #     # return GeoJSON with agl values added\n",
    "    #     return geoJSONcopy"
   ]
  },
  {
   "cell_type": "markdown",
   "metadata": {},
   "source": [
    "### RouteToKML Workflow"
   ]
  },
  {
   "cell_type": "code",
   "execution_count": 21,
   "metadata": {},
   "outputs": [],
   "source": [
    "inputData = 'SampleRoutes_v2.geojson'\n",
    "z_units = 'ft'\n",
    "agl = 400\n",
    "outputName = 'PendletonRoutes'\n",
    "routes = RouteToKML(inputData, z_units, agl, outputName)"
   ]
  }
 ],
 "metadata": {
  "kernelspec": {
   "display_name": "Python 3",
   "language": "python",
   "name": "python3"
  },
  "language_info": {
   "codemirror_mode": {
    "name": "ipython",
    "version": 3
   },
   "file_extension": ".py",
   "mimetype": "text/x-python",
   "name": "python",
   "nbconvert_exporter": "python",
   "pygments_lexer": "ipython3",
   "version": "3.7.11"
  }
 },
 "nbformat": 4,
 "nbformat_minor": 4
}
