{
 "cells": [
  {
   "cell_type": "code",
   "execution_count": 1,
   "metadata": {},
   "outputs": [],
   "source": [
    "import arcpy\n",
    "from sys import argv"
   ]
  },
  {
   "cell_type": "code",
   "execution_count": 2,
   "metadata": {},
   "outputs": [],
   "source": [
    "#Set workspace and variables \n",
    "arcpy.env.workspace=r\"C:\\Users\\MarySeidell\\Documents\\ArcGIS\\Projects\\Pendleton_OR\\Pendleton_OR_Routes.gdb\"\n",
    "\n",
    "PendletonOR_Suitability_Experiment_3m_Buffer = \"PendletonOR_Suitability_Experiment_3m_Buffer\" #Surface Location\n",
    "\n",
    "\n",
    "String = \"Pendleton_OR_\" #used for file naming \n",
    "Value = time.strftime(\"%d%m%Y%H%M%S\") #used for file naming\n",
    "Simplification_Tolerance = \"300 Meters\""
   ]
  },
  {
   "cell_type": "code",
   "execution_count": 3,
   "metadata": {},
   "outputs": [],
   "source": [
    "#Convert polygon surface to Raster Surface\n",
    "Raster_output = String+\"_toRaster_\"+Value\n",
    "ToRaster = arcpy.conversion.PolygonToRaster(\"PendletonOR_Suitability_Experiment_3m_Buffer\", value_field=\"score_v2\", out_rasterdataset=Raster_output, cell_assignment=\"CELL_CENTER\", priority_field=\"NONE\", cellsize=\"0.0004\", build_rat=\"BUILD\")"
   ]
  },
  {
   "cell_type": "code",
   "execution_count": 4,
   "metadata": {},
   "outputs": [],
   "source": [
    "#Projet Raster \n",
    "Project = String+\"_toRaster_Project_\"+Value\n",
    "Raster_output = arcpy.management.ProjectRaster(in_raster= Raster_output, out_raster=Project, out_coor_system=\"PROJCS[\\\"US_National_Atlas_Equal_Area\\\",GEOGCS[\\\"GCS_Sphere_Clarke_1866_Authalic\\\",DATUM[\\\"D_Sphere_Clarke_1866_Authalic\\\",SPHEROID[\\\"Sphere_Clarke_1866_Authalic\\\",6370997.0,0.0]],PRIMEM[\\\"Greenwich\\\",0.0],UNIT[\\\"Degree\\\",0.0174532925199433]],PROJECTION[\\\"Lambert_Azimuthal_Equal_Area\\\"],PARAMETER[\\\"False_Easting\\\",0.0],PARAMETER[\\\"False_Northing\\\",0.0],PARAMETER[\\\"Central_Meridian\\\",-100.0],PARAMETER[\\\"Latitude_Of_Origin\\\",45.0],UNIT[\\\"Meter\\\",1.0]]\", resampling_type=\"NEAREST\", cell_size=\"45.6326806908288 45.6326806908286\", geographic_transform=[], Registration_Point=\"\", in_coor_system=\"\", vertical=\"NO_VERTICAL\")\n",
    "Raster_Project = arcpy.Raster(Project)"
   ]
  },
  {
   "cell_type": "code",
   "execution_count": 5,
   "metadata": {},
   "outputs": [],
   "source": [
    "#Project Origin and Destination Points\n",
    "Origin = \"TribalCenter\"\n",
    "Destination = \"Pendleton_Lab\"\n",
    "Origin_Project = String+\"Origin_Project_\"+Value\n",
    "Destination_Project = String+\"Dest_Project_\"+Value\n",
    "Origin_output = arcpy.management.Project(in_dataset=Origin, out_dataset=Origin_Project, out_coor_system=\"PROJCS[\\\"US_National_Atlas_Equal_Area\\\",GEOGCS[\\\"GCS_Sphere_Clarke_1866_Authalic\\\",DATUM[\\\"D_Sphere_Clarke_1866_Authalic\\\",SPHEROID[\\\"Sphere_Clarke_1866_Authalic\\\",6370997.0,0.0]],PRIMEM[\\\"Greenwich\\\",0.0],UNIT[\\\"Degree\\\",0.0174532925199433]],PROJECTION[\\\"Lambert_Azimuthal_Equal_Area\\\"],PARAMETER[\\\"False_Easting\\\",0.0],PARAMETER[\\\"False_Northing\\\",0.0],PARAMETER[\\\"Central_Meridian\\\",-100.0],PARAMETER[\\\"Latitude_Of_Origin\\\",45.0],UNIT[\\\"Meter\\\",1.0]]\", transform_method=[], in_coor_system=\"GEOGCS[\\\"GCS_WGS_1984\\\",DATUM[\\\"D_WGS_1984\\\",SPHEROID[\\\"WGS_1984\\\",6378137.0,298.257223563]],PRIMEM[\\\"Greenwich\\\",0.0],UNIT[\\\"Degree\\\",0.0174532925199433]]\", preserve_shape=\"NO_PRESERVE_SHAPE\", max_deviation=\"\", vertical=\"NO_VERTICAL\")\n",
    "Destination_output = arcpy.management.Project(in_dataset=Destination, out_dataset=Destination_Project, out_coor_system=\"PROJCS[\\\"US_National_Atlas_Equal_Area\\\",GEOGCS[\\\"GCS_Sphere_Clarke_1866_Authalic\\\",DATUM[\\\"D_Sphere_Clarke_1866_Authalic\\\",SPHEROID[\\\"Sphere_Clarke_1866_Authalic\\\",6370997.0,0.0]],PRIMEM[\\\"Greenwich\\\",0.0],UNIT[\\\"Degree\\\",0.0174532925199433]],PROJECTION[\\\"Lambert_Azimuthal_Equal_Area\\\"],PARAMETER[\\\"False_Easting\\\",0.0],PARAMETER[\\\"False_Northing\\\",0.0],PARAMETER[\\\"Central_Meridian\\\",-100.0],PARAMETER[\\\"Latitude_Of_Origin\\\",45.0],UNIT[\\\"Meter\\\",1.0]]\", transform_method=[], in_coor_system=\"GEOGCS[\\\"GCS_WGS_1984\\\",DATUM[\\\"D_WGS_1984\\\",SPHEROID[\\\"WGS_1984\\\",6378137.0,298.257223563]],PRIMEM[\\\"Greenwich\\\",0.0],UNIT[\\\"Degree\\\",0.0174532925199433]]\", preserve_shape=\"NO_PRESERVE_SHAPE\", max_deviation=\"\", vertical=\"NO_VERTICAL\")"
   ]
  },
  {
   "cell_type": "code",
   "execution_count": 6,
   "metadata": {},
   "outputs": [],
   "source": [
    "#Run Least Cost Path Tool\n",
    "LeastCostPath = String+\"LeastCostPath_\"+Value \n",
    "Path_output, Start_output, End_output = arcpy.intelligence.LeastCostPath(in_cost_surface=Raster_Project, in_start_point=Origin_Project, in_end_point=Destination_Project, out_path_feature_class=LeastCostPath, handle_zeros=\"SMALL_POSITIVE\")"
   ]
  },
  {
   "cell_type": "code",
   "execution_count": 7,
   "metadata": {},
   "outputs": [],
   "source": [
    "#Create Barrier\n",
    "Barrier, Count = arcpy.management.SelectLayerByAttribute(in_layer_or_view=PendletonOR_Suitability_Experiment_3m_Buffer, selection_type=\"NEW_SELECTION\", where_clause=\"score_v2 > 4\", invert_where_clause=\"\")"
   ]
  },
  {
   "cell_type": "code",
   "execution_count": 8,
   "metadata": {},
   "outputs": [],
   "source": [
    "#Simplify Line\n",
    "Simplify_Line = String+\"SimplifyLine_\"+Value\n",
    "Simplify_Line_Output = arcpy.cartography.SimplifyLine(in_features=Path_output, out_feature_class=Simplify_Line, algorithm=\"WEIGHTED_AREA\", tolerance=Simplification_Tolerance, error_resolving_option=\"RESOLVE_ERRORS\", collapsed_point_option=\"NO_KEEP\", error_checking_option=\"CHECK\", in_barriers=[Barrier])[0]"
   ]
  },
  {
   "cell_type": "code",
   "execution_count": 9,
   "metadata": {},
   "outputs": [],
   "source": [
    "#Generalize Line Further \n",
    "Generalize_Line_Output = arcpy.edit.Generalize(in_features=Simplify_Line_Output, tolerance=\"100 Meters\")[0]"
   ]
  },
  {
   "cell_type": "code",
   "execution_count": 14,
   "metadata": {},
   "outputs": [],
   "source": [
    "out_json = String+\"_toGeoJSON_\"+Value\n",
    "GeoJson_Output = arcpy.FeaturesToJSON_conversion(in_features =Generalize_Line_Output, out_json_file = out_json, format_json=\"FORMATTED\", geoJSON=\"GEOJSON\")"
   ]
  },
  {
   "cell_type": "code",
   "execution_count": null,
   "metadata": {},
   "outputs": [],
   "source": []
  },
  {
   "cell_type": "code",
   "execution_count": null,
   "metadata": {},
   "outputs": [],
   "source": []
  }
 ],
 "metadata": {
  "kernelspec": {
   "display_name": "Python 3",
   "language": "python",
   "name": "python3"
  },
  "language_info": {
   "codemirror_mode": {
    "name": "ipython",
    "version": 3
   },
   "file_extension": ".py",
   "mimetype": "text/x-python",
   "name": "python",
   "nbconvert_exporter": "python",
   "pygments_lexer": "ipython3",
   "version": "3.7.10"
  }
 },
 "nbformat": 4,
 "nbformat_minor": 4
}
